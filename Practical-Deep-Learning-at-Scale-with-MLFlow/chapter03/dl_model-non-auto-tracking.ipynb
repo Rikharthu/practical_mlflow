{
 "cells": [
  {
   "cell_type": "code",
   "execution_count": 1,
   "metadata": {},
   "outputs": [],
   "source": [
    "import flash\n",
    "import mlflow\n",
    "import torch\n",
    "from flash.core.data.utils import download_data\n",
    "from flash.text import TextClassificationData, TextClassifier\n",
    "import torchmetrics\n",
    "from pytorch_lightning.core.memory import ModelSummary\n",
    "import shutil\n",
    "import tempfile\n",
    "import os\n"
   ]
  },
  {
   "cell_type": "code",
   "execution_count": 2,
   "metadata": {},
   "outputs": [],
   "source": [
    "os.environ[\"AWS_ACCESS_KEY_ID\"] = \"minio\"\n",
    "os.environ[\"AWS_SECRET_ACCESS_KEY\"] = \"minio123\"\n",
    "os.environ[\"MLFLOW_S3_ENDPOINT_URL\"] = \"http://localhost:9000\""
   ]
  },
  {
   "cell_type": "code",
   "execution_count": 3,
   "metadata": {},
   "outputs": [],
   "source": [
    "def save_file_as_mlflow_artifact(file_content_string, file_name = 'model_summary.txt'):\n",
    "    tempdir = tempfile.mkdtemp()\n",
    "    try:\n",
    "        summary_file = os.path.join(tempdir, file_name)\n",
    "        with open(summary_file, \"w\") as f:\n",
    "            f.write(file_content_string)\n",
    "\n",
    "        mlflow.log_artifact(local_path=summary_file)\n",
    "    finally:\n",
    "        shutil.rmtree(tempdir)"
   ]
  },
  {
   "cell_type": "code",
   "execution_count": 4,
   "metadata": {},
   "outputs": [
    {
     "name": "stderr",
     "output_type": "stream",
     "text": [
      "/Users/yongliu/opt/miniconda3/envs/dl_model/lib/python3.8/site-packages/urllib3/connectionpool.py:1013: InsecureRequestWarning: Unverified HTTPS request is being made to host 'pl-flash-data.s3.amazonaws.com'. Adding certificate verification is strongly advised. See: https://urllib3.readthedocs.io/en/1.26.x/advanced-usage.html#ssl-warnings\n",
      "  warnings.warn(\n",
      "Using custom data configuration default-2cbe0ffe5d992745\n",
      "0 tables [00:00, ? tables/s]"
     ]
    },
    {
     "name": "stdout",
     "output_type": "stream",
     "text": [
      "Downloading and preparing dataset csv/default (download: Unknown size, generated: Unknown size, post-processed: Unknown size, total: Unknown size) to /Users/yongliu/.cache/huggingface/datasets/csv/default-2cbe0ffe5d992745/0.0.0/e138af468cb14e747fb46a19c787ffcfa5170c821476d20d5304287ce12bbc23...\n"
     ]
    },
    {
     "name": "stderr",
     "output_type": "stream",
     "text": [
      "  6%|▌         | 1390/22500 [00:00<00:01, 13897.76ex/s]"
     ]
    },
    {
     "name": "stdout",
     "output_type": "stream",
     "text": [
      "Dataset csv downloaded and prepared to /Users/yongliu/.cache/huggingface/datasets/csv/default-2cbe0ffe5d992745/0.0.0/e138af468cb14e747fb46a19c787ffcfa5170c821476d20d5304287ce12bbc23. Subsequent calls will reuse this data.\n"
     ]
    },
    {
     "name": "stderr",
     "output_type": "stream",
     "text": [
      "100%|██████████| 22500/22500 [00:01<00:00, 14173.02ex/s]\n",
      "/Users/yongliu/opt/miniconda3/envs/dl_model/lib/python3.8/site-packages/flash/text/classification/data.py:170: FutureWarning: rename_column_ is deprecated and will be removed in the next major version of datasets. Use DatasetDict.rename_column instead.\n",
      "  dataset_dict.rename_column_(target, \"labels\")\n",
      "100%|██████████| 23/23 [00:07<00:00,  3.02ba/s]\n",
      "Using custom data configuration default-24db10d2cd33223a\n",
      " 47%|████▋     | 1170/2500 [00:00<00:00, 11699.65ex/s]"
     ]
    },
    {
     "name": "stdout",
     "output_type": "stream",
     "text": [
      "Downloading and preparing dataset csv/default (download: Unknown size, generated: Unknown size, post-processed: Unknown size, total: Unknown size) to /Users/yongliu/.cache/huggingface/datasets/csv/default-24db10d2cd33223a/0.0.0/e138af468cb14e747fb46a19c787ffcfa5170c821476d20d5304287ce12bbc23...\n",
      "Dataset csv downloaded and prepared to /Users/yongliu/.cache/huggingface/datasets/csv/default-24db10d2cd33223a/0.0.0/e138af468cb14e747fb46a19c787ffcfa5170c821476d20d5304287ce12bbc23. Subsequent calls will reuse this data.\n"
     ]
    },
    {
     "name": "stderr",
     "output_type": "stream",
     "text": [
      "100%|██████████| 2500/2500 [00:00<00:00, 12577.53ex/s]\n",
      "100%|██████████| 3/3 [00:00<00:00,  3.80ba/s]\n",
      "Using custom data configuration default-e2acff55419a6a53\n",
      " 60%|█████▉    | 1489/2500 [00:00<00:00, 14869.17ex/s]"
     ]
    },
    {
     "name": "stdout",
     "output_type": "stream",
     "text": [
      "Downloading and preparing dataset csv/default (download: Unknown size, generated: Unknown size, post-processed: Unknown size, total: Unknown size) to /Users/yongliu/.cache/huggingface/datasets/csv/default-e2acff55419a6a53/0.0.0/e138af468cb14e747fb46a19c787ffcfa5170c821476d20d5304287ce12bbc23...\n",
      "Dataset csv downloaded and prepared to /Users/yongliu/.cache/huggingface/datasets/csv/default-e2acff55419a6a53/0.0.0/e138af468cb14e747fb46a19c787ffcfa5170c821476d20d5304287ce12bbc23. Subsequent calls will reuse this data.\n"
     ]
    },
    {
     "name": "stderr",
     "output_type": "stream",
     "text": [
      "100%|██████████| 2500/2500 [00:00<00:00, 14156.78ex/s]\n",
      "100%|██████████| 3/3 [00:00<00:00,  3.66ba/s]\n"
     ]
    }
   ],
   "source": [
    "download_data(\"https://pl-flash-data.s3.amazonaws.com/imdb.zip\", \"./data/\")\n",
    "datamodule = TextClassificationData.from_csv(\n",
    "    input_fields=\"review\",\n",
    "    target_fields=\"sentiment\",\n",
    "    train_file=\"data/imdb/train.csv\",\n",
    "    val_file=\"data/imdb/valid.csv\",\n",
    "    test_file=\"data/imdb/test.csv\"\n",
    ")"
   ]
  },
  {
   "cell_type": "code",
   "execution_count": null,
   "metadata": {},
   "outputs": [],
   "source": [
    "# if we want to track multiple metrics simultaneously, define a list of metrics and pass it to the classifier metric parameter\n",
    "list_of_metrics = [torchmetrics.Accuracy(),\n",
    "                    torchmetrics.F1(num_classes=datamodule.num_classes),\n",
    "                    torchmetrics.Precision(num_classes=datamodule.num_classes),\n",
    "                    torchmetrics.Recall(num_classes=datamodule.num_classes)]"
   ]
  },
  {
   "cell_type": "code",
   "execution_count": 5,
   "metadata": {},
   "outputs": [
    {
     "name": "stderr",
     "output_type": "stream",
     "text": [
      "Using 'prajjwal1/bert-tiny' provided by Hugging Face/transformers (https://github.com/huggingface/transformers).\n",
      "Some weights of the model checkpoint at prajjwal1/bert-tiny were not used when initializing BertForSequenceClassification: ['cls.predictions.transform.dense.weight', 'cls.seq_relationship.bias', 'cls.predictions.transform.dense.bias', 'cls.predictions.decoder.weight', 'cls.predictions.transform.LayerNorm.bias', 'cls.seq_relationship.weight', 'cls.predictions.transform.LayerNorm.weight', 'cls.predictions.decoder.bias', 'cls.predictions.bias']\n",
      "- This IS expected if you are initializing BertForSequenceClassification from the checkpoint of a model trained on another task or with another architecture (e.g. initializing a BertForSequenceClassification model from a BertForPreTraining model).\n",
      "- This IS NOT expected if you are initializing BertForSequenceClassification from the checkpoint of a model that you expect to be exactly identical (initializing a BertForSequenceClassification model from a BertForSequenceClassification model).\n",
      "Some weights of BertForSequenceClassification were not initialized from the model checkpoint at prajjwal1/bert-tiny and are newly initialized: ['classifier.bias', 'classifier.weight']\n",
      "You should probably TRAIN this model on a down-stream task to be able to use it for predictions and inference.\n",
      "GPU available: False, used: False\n",
      "TPU available: False, using: 0 TPU cores\n",
      "IPU available: False, using: 0 IPUs\n"
     ]
    }
   ],
   "source": [
    "# uncomment the following line and comment out the immediate next line to use a list of metrics instead of a single metric during model training\n",
    "# classifier_model = TextClassifier(backbone=\"prajjwal1/bert-tiny\", num_classes=datamodule.num_classes, metrics=list_of_metrics)\n",
    "\n",
    "classifier_model = TextClassifier(backbone=\"prajjwal1/bert-tiny\", num_classes=datamodule.num_classes, metrics=torchmetrics.F1(datamodule.num_classes))\n",
    "trainer = flash.Trainer(max_epochs=3, gpus=torch.cuda.device_count())"
   ]
  },
  {
   "cell_type": "code",
   "execution_count": 6,
   "metadata": {},
   "outputs": [
    {
     "name": "stdout",
     "output_type": "stream",
     "text": [
      "experiment_id: 1\n"
     ]
    }
   ],
   "source": [
    "\n",
    "EXPERIMENT_NAME = \"dl_model_chapter03\"\n",
    "mlflow.set_tracking_uri('http://localhost')\n",
    "mlflow.set_experiment(EXPERIMENT_NAME)\n",
    "experiment = mlflow.get_experiment_by_name(EXPERIMENT_NAME)\n",
    "print(\"experiment_id:\", experiment.experiment_id)"
   ]
  },
  {
   "cell_type": "code",
   "execution_count": 7,
   "metadata": {},
   "outputs": [
    {
     "name": "stderr",
     "output_type": "stream",
     "text": [
      "\n",
      "  | Name          | Type                          | Params\n",
      "----------------------------------------------------------------\n",
      "0 | train_metrics | ModuleDict                    | 0     \n",
      "1 | val_metrics   | ModuleDict                    | 0     \n",
      "2 | model         | BertForSequenceClassification | 4.4 M \n",
      "----------------------------------------------------------------\n",
      "258       Trainable params\n",
      "4.4 M     Non-trainable params\n",
      "4.4 M     Total params\n",
      "17.545    Total estimated model params size (MB)\n"
     ]
    },
    {
     "name": "stdout",
     "output_type": "stream",
     "text": [
      "Epoch 2: 100%|██████████| 6250/6250 [02:24<00:00, 43.12it/s, loss=0.823, v_num=1, train_f1_step=0.750, train_cross_entropy_step=0.592, val_f1=0.593, val_cross_entropy=0.685, train_f1_epoch=0.576, train_cross_entropy_epoch=0.759]\n",
      "Testing:  99%|█████████▉| 621/625 [00:09<00:00, 67.70it/s]--------------------------------------------------------------------------------\n",
      "DATALOADER:0 TEST RESULTS\n",
      "{'test_cross_entropy': 0.6965022087097168, 'test_f1': 0.5888000130653381}\n",
      "--------------------------------------------------------------------------------\n",
      "Testing: 100%|██████████| 625/625 [00:09<00:00, 66.84it/s]\n"
     ]
    },
    {
     "name": "stderr",
     "output_type": "stream",
     "text": [
      "Registered model 'nlp_dl_model' already exists. Creating a new version of this model...\n",
      "2021/12/04 17:33:07 INFO mlflow.tracking._model_registry.client: Waiting up to 300 seconds for model version to finish creation.                     Model name: nlp_dl_model, version 8\n",
      "Created version '8' of model 'nlp_dl_model'.\n"
     ]
    }
   ],
   "source": [
    "MODEL_ARTIFACT_PATH = 'dl_model'\n",
    "REGISTERED_MODEL_NAME = 'nlp_dl_model'\n",
    "with mlflow.start_run(experiment_id=experiment.experiment_id, run_name=\"chapter03\") as dl_model_tracking_run:\n",
    "    trainer.finetune(classifier_model, datamodule=datamodule, strategy=\"freeze\")\n",
    "    trainer.test()\n",
    "\n",
    "    # mlflow log metrics\n",
    "    cur_metrics = trainer.callback_metrics\n",
    "    # Cast metric value as  float before passing into logger.\n",
    "    metrics = dict(map(lambda x: (x[0], float(x[1])), cur_metrics.items()))\n",
    "    mlflow.log_metrics(metrics)\n",
    "\n",
    "    # mlflow log parameters\n",
    "    params = {\"epochs\": trainer.max_epochs}\n",
    "    if hasattr(trainer, \"optimizers\"):\n",
    "        optimizer = trainer.optimizers[0]\n",
    "        params[\"optimizer_name\"] = optimizer.__class__.__name__\n",
    "    if hasattr(optimizer, \"defaults\"):\n",
    "        params.update(optimizer.defaults)\n",
    "    # add hyper-parameters used in this training\n",
    "    params.update(classifier_model.hparams)\n",
    "    mlflow.log_params(params)\n",
    "\n",
    "    # log model summary as an artifact\n",
    "    summary = ModelSummary(classifier_model, max_depth=-1)\n",
    "    save_file_as_mlflow_artifact(str(summary))\n",
    "\n",
    "    # log and register the trained model\n",
    "    mlflow.pytorch.log_model(pytorch_model=classifier_model, artifact_path=MODEL_ARTIFACT_PATH, registered_model_name=REGISTERED_MODEL_NAME)\n"
   ]
  },
  {
   "cell_type": "code",
   "execution_count": 8,
   "metadata": {},
   "outputs": [
    {
     "name": "stdout",
     "output_type": "stream",
     "text": [
      "run_id: 3c672b02f8bb40178dfb695b1f1795b3; lifecycle_stage: active\n"
     ]
    }
   ],
   "source": [
    "run_id = dl_model_tracking_run.info.run_id\n",
    "print(\"run_id: {}; lifecycle_stage: {}\".format(run_id,\n",
    "    mlflow.get_run(run_id).info.lifecycle_stage))"
   ]
  },
  {
   "cell_type": "code",
   "execution_count": 10,
   "metadata": {},
   "outputs": [
    {
     "data": {
      "text/plain": [
       "['negative']"
      ]
     },
     "execution_count": 10,
     "metadata": {},
     "output_type": "execute_result"
    }
   ],
   "source": [
    "logged_model = f'runs:/{run_id}/{MODEL_ARTIFACT_PATH}'\n",
    "# Load model as a pytorch model, not as the pyfunc model\n",
    "model = mlflow.pytorch.load_model(logged_model)\n",
    "# To bypass a lightning-flash's bug, we need to set the stage to test so a loaded model can be used to do prediction\n",
    "model.trainer.state.stage='test'\n",
    "model.predict({'What a news!'})"
   ]
  }
 ],
 "metadata": {
  "interpreter": {
   "hash": "4d47e90b27931bd104cce25434f293e26636b078f01e1bbf5b25a98296951936"
  },
  "kernelspec": {
   "display_name": "Python 3.8.10 64-bit ('dl_model': conda)",
   "name": "python3"
  },
  "language_info": {
   "codemirror_mode": {
    "name": "ipython",
    "version": 3
   },
   "file_extension": ".py",
   "mimetype": "text/x-python",
   "name": "python",
   "nbconvert_exporter": "python",
   "pygments_lexer": "ipython3",
   "version": "3.8.10"
  },
  "orig_nbformat": 4
 },
 "nbformat": 4,
 "nbformat_minor": 2
}
